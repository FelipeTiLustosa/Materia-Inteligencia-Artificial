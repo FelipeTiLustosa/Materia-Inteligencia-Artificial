{
 "cells": [
  {
   "cell_type": "markdown",
   "metadata": {},
   "source": [
    "<hr>"
   ]
  },
  {
   "cell_type": "markdown",
   "metadata": {},
   "source": [
    "## Sistema de Avaliação de Desempenho de Estudantes usando logica Fuzzy"
   ]
  },
  {
   "cell_type": "markdown",
   "metadata": {},
   "source": [
    "<hr>"
   ]
  },
  {
   "cell_type": "markdown",
   "metadata": {},
   "source": [
    "### Codigo:"
   ]
  },
  {
   "cell_type": "code",
   "execution_count": 17,
   "metadata": {},
   "outputs": [
    {
     "ename": "ModuleNotFoundError",
     "evalue": "No module named 'skfuzzy'",
     "output_type": "error",
     "traceback": [
      "\u001b[1;31m---------------------------------------------------------------------------\u001b[0m",
      "\u001b[1;31mModuleNotFoundError\u001b[0m                       Traceback (most recent call last)",
      "Cell \u001b[1;32mIn[17], line 1\u001b[0m\n\u001b[1;32m----> 1\u001b[0m \u001b[38;5;28;01mimport\u001b[39;00m \u001b[38;5;21;01mskfuzzy\u001b[39;00m \u001b[38;5;28;01mas\u001b[39;00m \u001b[38;5;21;01mfuzz\u001b[39;00m\n\u001b[0;32m      2\u001b[0m \u001b[38;5;28;01mimport\u001b[39;00m \u001b[38;5;21;01mnumpy\u001b[39;00m \u001b[38;5;28;01mas\u001b[39;00m \u001b[38;5;21;01mnp\u001b[39;00m\n\u001b[0;32m      3\u001b[0m \u001b[38;5;28;01mfrom\u001b[39;00m \u001b[38;5;21;01mskfuzzy\u001b[39;00m \u001b[38;5;28;01mimport\u001b[39;00m control \u001b[38;5;28;01mas\u001b[39;00m ctrl\n",
      "\u001b[1;31mModuleNotFoundError\u001b[0m: No module named 'skfuzzy'"
     ]
    }
   ],
   "source": [
    "import skfuzzy as fuzz\n",
    "import numpy as np\n",
    "from skfuzzy import control as ctrl\n",
    "import matplotlib.pyplot as plt\n",
    "\n",
    "# Definição das variáveis linguísticas\n",
    "notas = ctrl.Antecedent(np.arange(0, 11, 1), 'notas')\n",
    "participacao = ctrl.Antecedent(np.arange(0, 11, 1), 'participacao')\n",
    "pontualidade = ctrl.Antecedent(np.arange(0, 11, 1), 'pontualidade')\n",
    "avaliacao_final = ctrl.Consequent(np.arange(0, 11, 1), 'avaliacao_final')\n",
    "\n",
    "# Definição dos conjuntos fuzzy\n",
    "notas['baixa'] = fuzz.trimf(notas.universe, [0, 0, 5])\n",
    "notas['media'] = fuzz.trimf(notas.universe, [0, 5, 10])\n",
    "notas['alta'] = fuzz.trimf(notas.universe, [5, 10, 10])\n",
    "\n",
    "participacao['baixa'] = fuzz.trimf(participacao.universe, [0, 0, 5])\n",
    "participacao['media'] = fuzz.trimf(participacao.universe, [0, 5, 10])\n",
    "participacao['alta'] = fuzz.trimf(participacao.universe, [5, 10, 10])\n",
    "\n",
    "pontualidade['baixa'] = fuzz.trimf(pontualidade.universe, [0, 0, 5])\n",
    "pontualidade['media'] = fuzz.trimf(pontualidade.universe, [0, 5, 10])\n",
    "pontualidade['alta'] = fuzz.trimf(pontualidade.universe, [5, 10, 10])\n",
    "\n",
    "avaliacao_final['ruim'] = fuzz.trimf(avaliacao_final.universe, [0, 0, 5])\n",
    "avaliacao_final['regular'] = fuzz.trimf(avaliacao_final.universe, [0, 5, 10])\n",
    "avaliacao_final['bom'] = fuzz.trimf(avaliacao_final.universe, [5, 10, 10])\n",
    "\n",
    "# Definição das regras fuzzy\n",
    "regra1 = ctrl.Rule(notas['alta'] & participacao['alta'] & pontualidade['alta'], avaliacao_final['bom'])\n",
    "regra2 = ctrl.Rule(notas['media'] | participacao['media'] | pontualidade['media'], avaliacao_final['regular'])\n",
    "regra3 = ctrl.Rule(notas['baixa'] & participacao['baixa'] & pontualidade['baixa'], avaliacao_final['ruim'])\n",
    "\n",
    "# Criação do sistema de controle\n",
    "sistema_controle = ctrl.ControlSystem([regra1, regra2, regra3])\n",
    "sistema = ctrl.ControlSystemSimulation(sistema_controle)\n",
    "\n",
    "# Entrada de valores\n",
    "sistema.input['notas'] = 7\n",
    "sistema.input['participacao'] = 8\n",
    "sistema.input['pontualidade'] = 9\n",
    "\n",
    "# Computação da avaliação final\n",
    "sistema.compute()\n",
    "\n",
    "# Arredonda o resultado da Avaliação Final para 2 casas decimais\n",
    "resultado_arredondado = round(sistema.output['avaliacao_final'], 2)\n",
    "\n",
    "# Saída do resultado\n",
    "print(\"Avaliação Final:\", resultado_arredondado)\n",
    "\n",
    "# Visualização do resultado\n",
    "avaliacao_final.view(sim=sistema)\n",
    "plt.show()"
   ]
  },
  {
   "cell_type": "code",
   "execution_count": 16,
   "metadata": {},
   "outputs": [
    {
     "name": "stdout",
     "output_type": "stream",
     "text": [
      "Requirement already satisfied: scikit-fuzzy in c:\\users\\felip.f3l1p3\\appdata\\local\\packages\\pythonsoftwarefoundation.python.3.11_qbz5n2kfra8p0\\localcache\\local-packages\\python311\\site-packages (0.4.2)\n",
      "Requirement already satisfied: numpy>=1.6.0 in c:\\users\\felip.f3l1p3\\appdata\\local\\packages\\pythonsoftwarefoundation.python.3.11_qbz5n2kfra8p0\\localcache\\local-packages\\python311\\site-packages (from scikit-fuzzy) (1.26.4)\n",
      "Requirement already satisfied: scipy>=0.9.0 in c:\\users\\felip.f3l1p3\\appdata\\local\\packages\\pythonsoftwarefoundation.python.3.11_qbz5n2kfra8p0\\localcache\\local-packages\\python311\\site-packages (from scikit-fuzzy) (1.12.0)\n",
      "Requirement already satisfied: networkx>=1.9.0 in c:\\users\\felip.f3l1p3\\appdata\\local\\packages\\pythonsoftwarefoundation.python.3.11_qbz5n2kfra8p0\\localcache\\local-packages\\python311\\site-packages (from scikit-fuzzy) (2.8.8)\n"
     ]
    }
   ],
   "source": [
    "!pip install scikit-fuzzy\n"
   ]
  }
 ],
 "metadata": {
  "kernelspec": {
   "display_name": "Python 3",
   "language": "python",
   "name": "python3"
  },
  "language_info": {
   "codemirror_mode": {
    "name": "ipython",
    "version": 3
   },
   "file_extension": ".py",
   "mimetype": "text/x-python",
   "name": "python",
   "nbconvert_exporter": "python",
   "pygments_lexer": "ipython3",
   "version": "3.12.0"
  }
 },
 "nbformat": 4,
 "nbformat_minor": 2
}
